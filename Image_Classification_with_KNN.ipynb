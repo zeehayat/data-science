{
  "nbformat": 4,
  "nbformat_minor": 0,
  "metadata": {
    "colab": {
      "provenance": [],
      "authorship_tag": "ABX9TyO6JJiYwzOfnXfw+79Lx3sB",
      "include_colab_link": true
    },
    "kernelspec": {
      "name": "python3",
      "display_name": "Python 3"
    },
    "language_info": {
      "name": "python"
    }
  },
  "cells": [
    {
      "cell_type": "markdown",
      "metadata": {
        "id": "view-in-github",
        "colab_type": "text"
      },
      "source": [
        "<a href=\"https://colab.research.google.com/github/zeehayat/data-science/blob/main/Image_Classification_with_KNN.ipynb\" target=\"_parent\"><img src=\"https://colab.research.google.com/assets/colab-badge.svg\" alt=\"Open In Colab\"/></a>"
      ]
    },
    {
      "cell_type": "code",
      "execution_count": 10,
      "metadata": {
        "id": "o6hZvB0XTwwR"
      },
      "outputs": [],
      "source": [
        "import pandas as pd\n",
        "from sklearn.neighbors import KNeighborsClassifier\n",
        "from sklearn.datasets import fetch_openml\n",
        "from sklearn.model_selection import train_test_split\n",
        "from sklearn.metrics import accuracy_score"
      ]
    },
    {
      "cell_type": "code",
      "source": [
        "mnist = fetch_openml('mnist_784', parser='auto')\n",
        "X, y = mnist['data'], mnist['target']\n",
        "\n",
        "# Preprocess the data (flatten images and normalize pixel values)\n",
        "X = mnist['data'].values.reshape(-1, 784) / 255.0\n",
        "\n",
        "# Split the data into training and testing sets\n",
        "X_train, X_test, y_train, y_test = train_test_split(X, y, test_size=0.25, random_state=42)\n",
        "\n",
        "# Create a KNN classifier with k=5\n",
        "knn = KNeighborsClassifier(n_neighbors=5)\n",
        "\n",
        "# Train the model\n",
        "knn.fit(X_train, y_train)\n",
        "\n",
        "# Make predictions on the test set\n",
        "y_pred = knn.predict(X_test)\n",
        "\n",
        "# Evaluate the model's performance\n",
        "accuracy = accuracy_score(y_test, y_pred)\n",
        "print(\"Accuracy:\", accuracy)"
      ],
      "metadata": {
        "colab": {
          "base_uri": "https://localhost:8080/"
        },
        "id": "qUIPZuGrUSXC",
        "outputId": "12af984e-3df8-414c-cad4-ffb18f3d985a"
      },
      "execution_count": 13,
      "outputs": [
        {
          "output_type": "stream",
          "name": "stdout",
          "text": [
            "Accuracy: 0.9692571428571428\n"
          ]
        }
      ]
    },
    {
      "cell_type": "code",
      "source": [
        "\n",
        "\n",
        "\n",
        "\n"
      ],
      "metadata": {
        "id": "tJ14enOtUTO0"
      },
      "execution_count": 3,
      "outputs": []
    },
    {
      "cell_type": "markdown",
      "source": [
        "# Explanation:\n",
        "\n",
        "* Loads the MNIST dataset of handwritten digits from OpenML.\n",
        "* Preprocesses the data:\n",
        "* Flattens the 28x28 pixel images into 784-dimensional feature vectors.\n",
        "* Normalizes pixel values to a range of 0 to 1 for better model performance.\n",
        "* Splits the data into training and testing sets.\n",
        "* Creates a KNN classifier with 5 nearest neighbors.\n",
        "* Trains the model on the training data.\n",
        "* Makes predictions on the unseen test data.\n",
        "* Evaluates the accuracy of the predictions.\n",
        "\n",
        "## Key points:\n",
        "\n",
        "* Image data: Demonstrates KNN's ability to handle image classification tasks.\n",
        "* Preprocessing: Essential for image data to represent images as numerical vectors.\n",
        "* Hyperparameter tuning: Experiment with different values of k and distance metrics to potentially improve accuracy."
      ],
      "metadata": {
        "id": "uP8QJGjRdVlK"
      }
    },
    {
      "cell_type": "code",
      "source": [],
      "metadata": {
        "id": "XK1q3H4EUqsD"
      },
      "execution_count": 4,
      "outputs": []
    },
    {
      "cell_type": "code",
      "source": [],
      "metadata": {
        "id": "MdQjn8mxUvKq"
      },
      "execution_count": 10,
      "outputs": []
    },
    {
      "cell_type": "code",
      "source": [],
      "metadata": {
        "id": "9JSLKd3zU0lJ"
      },
      "execution_count": 10,
      "outputs": []
    },
    {
      "cell_type": "code",
      "source": [],
      "metadata": {
        "id": "OO6LSyfeVVkR"
      },
      "execution_count": null,
      "outputs": []
    },
    {
      "cell_type": "code",
      "source": [],
      "metadata": {
        "id": "i7zm6ineVPc5"
      },
      "execution_count": null,
      "outputs": []
    },
    {
      "cell_type": "code",
      "source": [],
      "metadata": {
        "id": "7JlFJuBdUyHB"
      },
      "execution_count": null,
      "outputs": []
    },
    {
      "cell_type": "code",
      "source": [],
      "metadata": {
        "id": "culSuX_EUhxh"
      },
      "execution_count": null,
      "outputs": []
    }
  ]
}